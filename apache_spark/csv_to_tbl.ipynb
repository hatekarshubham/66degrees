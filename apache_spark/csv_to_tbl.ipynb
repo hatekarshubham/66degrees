{
 "cells": [
  {
   "cell_type": "code",
   "execution_count": 0,
   "metadata": {
    "application/vnd.databricks.v1+cell": {
     "cellMetadata": {
      "byteLimit": 2048000,
      "rowLimit": 10000
     },
     "inputWidgets": {},
     "nuid": "4d99c278-710b-4d3f-a35a-8948f47d3c02",
     "showTitle": false,
     "tableResultSettingsMap": {},
     "title": ""
    }
   },
   "outputs": [],
   "source": [
    "import uuid\n",
    "from pyspark.sql.functions import udf\n",
    "from pyspark.sql.types import LongType\n",
    "\n",
    "# Define column lists for different tables\n",
    "prdt_lst = ['product_id', 'product_line', 'unit_price']\n",
    "cust_lst = ['customer_id', 'customer_type', 'gender', 'rating']\n",
    "sales_fact_lst = [\n",
    "    'invoice_id', 'customer_id', 'product_id', 'branch', 'city', 'quantity',\n",
    "    'date', 'time', 'payment', 'cogs', 'tax', 'total', 'gross_income', 'gross_margin_percentage'\n",
    "]\n",
    "\n",
    "# Read CSV file into a Spark DataFrame\n",
    "# Using inferSchema=True allows Spark to automatically determine column data types\n",
    "df = (spark.read.format(\"csv\")\n",
    "      .option(\"header\", \"true\")\n",
    "      .option(\"inferSchema\", \"true\")\n",
    "      .load(\"/FileStore/input/supermarket_sales.csv\"))\n",
    "\n",
    "# Define UDFs to generate UUIDs for customer_id and product_id\n",
    "uuidUdf_cust = udf(lambda: int(abs(hash(str(uuid.uuid4())))%10**10),LongType())\n",
    "uuidUdf_prdt = udf(lambda: int(abs(hash(str(uuid.uuid4())))%10**10),LongType())\n",
    "\n",
    "# Add customer_id and product_id columns with unique UUIDs\n",
    "df_ids = df.withColumn(\"customer_id\", uuidUdf_cust()).withColumn(\"product_id\", uuidUdf_prdt())\n",
    "\n",
    "# Select specific columns to create different DataFrames for separate tables\n",
    "df_product = df_ids.select(*prdt_lst)\n",
    "df_customer = df_ids.select(*cust_lst)\n",
    "df_fact = df_ids.select(*sales_fact_lst)\n",
    "\n",
    "# Write DataFrames to Delta tables in append mode\n",
    "df_customer.write.format(\"delta\").mode(\"append\").saveAsTable(\"supermarketsales_db.customer\")\n",
    "df_product.write.format(\"delta\").mode(\"append\").saveAsTable(\"supermarketsales_db.product\")\n",
    "df_fact.write.format(\"delta\").mode(\"append\").saveAsTable(\"supermarketsales_db.sales_fact\")\n"
   ]
  }
 ],
 "metadata": {
  "application/vnd.databricks.v1+notebook": {
   "computePreferences": null,
   "dashboards": [],
   "environmentMetadata": {
    "base_environment": "",
    "environment_version": "1"
   },
   "inputWidgetPreferences": null,
   "language": "python",
   "notebookMetadata": {
    "pythonIndentUnit": 4
   },
   "notebookName": "csv_to_tbl",
   "widgets": {}
  }
 },
 "nbformat": 4,
 "nbformat_minor": 0
}